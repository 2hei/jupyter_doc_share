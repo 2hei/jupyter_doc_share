{
 "cells": [
  {
   "cell_type": "code",
   "execution_count": 1,
   "metadata": {},
   "outputs": [],
   "source": [
    "import pandas as pd\n",
    "import plotly.graph_objs as go\n",
    "import dash\n",
    "import dash_core_components as dcc\n",
    "import dash_html_components as html\n",
    "from dash.dependencies import Input, Output\n",
    "from jupyter_plotly_dash import JupyterDash"
   ]
  },
  {
   "cell_type": "code",
   "execution_count": 2,
   "metadata": {},
   "outputs": [
    {
     "data": {
      "text/html": [
       "<div>\n",
       "  <iframe src=\"/user/yujingtao/app/endpoints/92b4079cdf234c61a70985dfdf072c7a/\" width=800 height=600 frameborder=\"0\"></iframe>\n",
       "  <hr/><a href=\"/user/yujingtao/app/endpoints/92b4079cdf234c61a70985dfdf072c7a/\" target=\"_new\">Open in new window</a> for /user/yujingtao/app/endpoints/92b4079cdf234c61a70985dfdf072c7a/\n",
       "</div>"
      ],
      "text/plain": [
       "<jupyter_plotly_dash.dash_wrapper.JupyterDash at 0x7f2ee0439f28>"
      ]
     },
     "execution_count": 2,
     "metadata": {},
     "output_type": "execute_result"
    }
   ],
   "source": [
    "app = JupyterDash('Dash Portal', )\n",
    "app.layout = html.Div(\n",
    "    children = [\n",
    "        html.H1('Temperatures'),\n",
    "        html.Div('''Dash: 温度'''),\n",
    "        dcc.Graph(\n",
    "            id='temp-graph',\n",
    "            figure = dict(\n",
    "                data = [{'x': [1, 2, 3, 4, 5, 6, 7, 8, 9, 10, 11, 12], 'y': [-5, -2, 2, 6, 10, 15, 25, 26, 23, 17, 8, -3], 'type': 'bar', 'name': '北京'},\n",
    "                        {'x': [1, 2, 3, 4, 5, 6, 7, 8, 9, 10, 11, 12], 'y': [-1, 3, 8, 12, 14, 17, 26, 28, 24, 19, 11, 2], 'type': 'bar', 'name': '上海'}],\n",
    "                layout = dict(title = '北京、上海月平均温度')\n",
    "            )\n",
    "        )\n",
    "    ]\n",
    ")\n",
    "\n",
    "app"
   ]
  },
  {
   "cell_type": "code",
   "execution_count": 3,
   "metadata": {},
   "outputs": [
    {
     "data": {
      "text/html": [
       "<div>\n",
       "  <iframe src=\"/user/yujingtao/app/endpoints/9b76a1d4818c42b0a5b124e1540bba6c/\" width=800 height=600 frameborder=\"0\"></iframe>\n",
       "  <hr/><a href=\"/user/yujingtao/app/endpoints/9b76a1d4818c42b0a5b124e1540bba6c/\" target=\"_new\">Open in new window</a> for /user/yujingtao/app/endpoints/9b76a1d4818c42b0a5b124e1540bba6c/\n",
       "</div>"
      ],
      "text/plain": [
       "<jupyter_plotly_dash.dash_wrapper.JupyterDash at 0x7f2fa8174390>"
      ]
     },
     "execution_count": 3,
     "metadata": {},
     "output_type": "execute_result"
    }
   ],
   "source": [
    "# 数据源\n",
    "# GDP 对比图\n",
    "\n",
    "df = pd.read_csv('gdp.csv')\n",
    "\n",
    "app = JupyterDash('Scatter Plot')\n",
    "app.layout = html.Div([\n",
    "    dcc.Graph(\n",
    "        id = 'life-exp-vs-gdp',\n",
    "        figure = dict(\n",
    "            data = [\n",
    "                go.Scatter(\n",
    "                    x = df[df['continent'] == i]['gdp per capita'],\n",
    "                    y = df[df['continent'] == i]['life expectancy'],\n",
    "                    text = df[df['continent'] == i]['country'],\n",
    "                    name = i,\n",
    "                    mode = 'markers',\n",
    "                    opacity = 0.8,\n",
    "                    marker = dict(size = 15, line = dict(width = 0.5, color = 'white'))  \n",
    "                ) for i in df.continent.unique()],\n",
    "            layout = go.Layout(\n",
    "                xaxis = dict(type = 'log', title = 'GDP Per Capita'),\n",
    "                yaxis = dict(title = 'Life Expectancy'),\n",
    "                margin = {'l': 40, 'b': 40, 't': 10, 'r': 10},\n",
    "                legend = dict(x = 0, y = 1),\n",
    "                hovermode = 'closest'\n",
    "            )  \n",
    "        )\n",
    "    )\n",
    "])\n",
    "\n",
    "app"
   ]
  },
  {
   "cell_type": "code",
   "execution_count": 4,
   "metadata": {},
   "outputs": [
    {
     "data": {
      "text/html": [
       "<div>\n",
       "  <iframe src=\"/user/yujingtao/app/endpoints/394130776d284319ae97dfed259e737a/\" width=800 height=600 frameborder=\"0\"></iframe>\n",
       "  <hr/><a href=\"/user/yujingtao/app/endpoints/394130776d284319ae97dfed259e737a/\" target=\"_new\">Open in new window</a> for /user/yujingtao/app/endpoints/394130776d284319ae97dfed259e737a/\n",
       "</div>"
      ],
      "text/plain": [
       "<jupyter_plotly_dash.dash_wrapper.JupyterDash at 0x7f2edf712c50>"
      ]
     },
     "execution_count": 4,
     "metadata": {},
     "output_type": "execute_result"
    }
   ],
   "source": [
    "app = JupyterDash('Core Components')\n",
    "app.layout = html.Div([\n",
    "    html.Label('下拉菜单'),\n",
    "    dcc.Dropdown(\n",
    "        options = [{'label': '北京', 'value': '北京'},\n",
    "                   {'label': '天津', 'value': '天津'},\n",
    "                   {'label': '上海', 'value': '上海'}],\n",
    "\n",
    "        value = '北京'),\n",
    "    \n",
    "    html.Label('多选下拉菜单'),\n",
    "    dcc.Dropdown(\n",
    "        options = [{'label': '北京', 'value': '北京'},\n",
    "                   {'label': '天津', 'value': '天津'},\n",
    "                   {'label': '上海', 'value': '上海'}],\n",
    "        value = ['北京', '上海'],\n",
    "        multi = True),\n",
    "    \n",
    "    html.Label('单选钮'),\n",
    "    dcc.RadioItems(\n",
    "        options = [{'label': '北京', 'value': '北京'},\n",
    "                   {'label': '天津', 'value': '天津'},\n",
    "                   {'label': '上海', 'value': '上海'}],\n",
    "        value = '北京'),\n",
    "    \n",
    "    html.Label('多选框'),\n",
    "    dcc.Checklist(\n",
    "        options = [{'label': '北京', 'value': '北京'},\n",
    "                   {'label': '天津', 'value': '天津'},\n",
    "                   {'label': '上海', 'value': '上海'}],\n",
    "        value=['北京', '上海']),\n",
    "    \n",
    "    html.Label('Text Input'),\n",
    "    dcc.Input(value = '天津', type = 'text'),\n",
    "    \n",
    "    html.Label('文本输入'),\n",
    "    dcc.Slider(\n",
    "        min = 0, max = 9, value = 5,\n",
    "        marks = {i: '标签 {}'.format(i) if i == 1 else str(i) for i in range(1, 6)})\n",
    "],style={'columnCount': 2})\n",
    "\n",
    "app        "
   ]
  },
  {
   "cell_type": "code",
   "execution_count": null,
   "metadata": {},
   "outputs": [],
   "source": []
  }
 ],
 "metadata": {
  "kernelspec": {
   "display_name": "Python 3",
   "language": "python",
   "name": "python3"
  },
  "language_info": {
   "codemirror_mode": {
    "name": "ipython",
    "version": 3
   },
   "file_extension": ".py",
   "mimetype": "text/x-python",
   "name": "python",
   "nbconvert_exporter": "python",
   "pygments_lexer": "ipython3",
   "version": "3.6.9"
  }
 },
 "nbformat": 4,
 "nbformat_minor": 4
}
